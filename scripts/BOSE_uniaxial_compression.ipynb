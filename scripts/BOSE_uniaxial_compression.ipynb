{
 "cells": [
  {
   "cell_type": "markdown",
   "id": "d040b422-3c0f-4fdc-b07b-11bf0e3c6a7b",
   "metadata": {},
   "source": [
    "<span STYLE=\"font-size:200%\"> \n",
    "    Data analysis of the BOSE uniaxial compression test\n",
    "</span>\n",
    "\n",
    "Docker image: gnasello/bose-compression:2023-03-29 \\\n",
    "Conda environment: Python3 (ipykernel) \\\n",
    "Latest update: 29 March 2023"
   ]
  },
  {
   "cell_type": "markdown",
   "id": "e438cbaf-2bb0-4ba7-ab28-16680930d354",
   "metadata": {},
   "source": [
    "# Import libraries"
   ]
  },
  {
   "cell_type": "code",
   "execution_count": null,
   "id": "54b784a5-391b-498a-99ab-59a3304b47d4",
   "metadata": {},
   "outputs": [],
   "source": [
    "import pandas as pd\n",
    "import seaborn as sns\n",
    "import matplotlib.pyplot as plt\n",
    "import statsmodels.formula.api as sfa\n",
    "import numpy as np\n",
    "from matplotlib.lines import Line2D\n",
    "from pathlib import Path"
   ]
  },
  {
   "cell_type": "markdown",
   "id": "f6608d11-7db1-45ae-965e-90c93fee1bc8",
   "metadata": {},
   "source": [
    "# Load data"
   ]
  },
  {
   "cell_type": "code",
   "execution_count": null,
   "id": "08a369fb-9854-4201-ac06-8cc61727c9b4",
   "metadata": {},
   "outputs": [],
   "source": [
    "filename = 'example/2mgml-noX-1 03282023 013109_tdf.CSV'"
   ]
  },
  {
   "cell_type": "code",
   "execution_count": null,
   "id": "80705a71-e8f2-45f5-a9cb-004ee23045c2",
   "metadata": {},
   "outputs": [],
   "source": [
    "# skiprows - the first three lines of tdf.CSV files are not relevant for the dataframe object \n",
    "df_original = pd.read_csv(filename, skiprows=3) \n",
    "\n",
    "units = df_original.iloc[0]\n",
    "units"
   ]
  },
  {
   "cell_type": "code",
   "execution_count": null,
   "id": "51930f14-6b96-4125-a81b-98af8fe5f5c3",
   "metadata": {},
   "outputs": [],
   "source": [
    "df_original.head()"
   ]
  },
  {
   "cell_type": "markdown",
   "id": "ec5dee0d-84f4-4a72-89df-c3a29f6028cf",
   "metadata": {},
   "source": [
    "Remove not relevant data"
   ]
  },
  {
   "cell_type": "code",
   "execution_count": null,
   "id": "be8a584c-836e-4fa4-85c6-d1c1b1d8b1eb",
   "metadata": {},
   "outputs": [],
   "source": [
    "df = df_original.drop([0])\n",
    "df = df.iloc[:, :-1].astype(float) # drop last column\n",
    "df"
   ]
  },
  {
   "cell_type": "markdown",
   "id": "6fd07a60-70bf-44e9-947d-c53624af7812",
   "metadata": {},
   "source": [
    "# Select interval of interest"
   ]
  },
  {
   "cell_type": "markdown",
   "id": "28659a5c-b6a7-4a3b-a378-a6b6ffb91c8e",
   "metadata": {},
   "source": [
    "<span style=\"color:red\">**User Input**</span>"
   ]
  },
  {
   "cell_type": "code",
   "execution_count": null,
   "id": "f84246e2-4a6f-488c-b540-4be9b21d0cfe",
   "metadata": {},
   "outputs": [],
   "source": [
    "time_var = 'Elapsed Time'\n",
    "test_duration = 2 #seconds"
   ]
  },
  {
   "cell_type": "code",
   "execution_count": null,
   "id": "cb4148f6-6942-43f9-b0f6-27167d314e55",
   "metadata": {},
   "outputs": [],
   "source": [
    "df = df[df[time_var] <= test_duration]\n",
    "df"
   ]
  },
  {
   "cell_type": "markdown",
   "id": "cd8b5d6b-0092-4fde-8a2f-56da7b8e9ada",
   "metadata": {},
   "source": [
    "# Convert Load (in grams) to Force (in milli Newtons) and change sign"
   ]
  },
  {
   "cell_type": "code",
   "execution_count": null,
   "id": "4de0a0d2-26f9-42ff-b3cf-23821bd949da",
   "metadata": {},
   "outputs": [],
   "source": [
    "g_acc = 9.80665 # m/s2\n",
    "\n",
    "df['Load_g'] = df['Load 3']\n",
    "\n",
    "df['Force'] = df['Load_g'] * (-g_acc) # g * m/s^2 = mN (10^-3 N)\n",
    "df"
   ]
  },
  {
   "cell_type": "markdown",
   "id": "9a7ec217-c8fa-4af9-94bb-72d4baf36a0c",
   "metadata": {},
   "source": [
    "# Time plots"
   ]
  },
  {
   "cell_type": "code",
   "execution_count": null,
   "id": "3d944eee-8725-476e-86f6-c8e84e3fbb12",
   "metadata": {},
   "outputs": [],
   "source": [
    "from matplotlib import rcParams\n",
    "\n",
    "# figure size in inches\n",
    "rcParams['figure.figsize'] = 5,5\n",
    "\n",
    "g = sns.lineplot(data=df, x=\"Elapsed Time\", y=\"Load 3\", color=\"g\")\n",
    "plt.xlabel('Time (s)')\n",
    "plt.ylabel('Load (g)')\n",
    "\n",
    "sns.lineplot(data=df, x=\"Elapsed Time\", y=\"Disp\", color=\"r\", ax=g.axes.twinx())\n",
    "plt.ylabel('Displacement (mm)')\n",
    "g.legend(handles=[Line2D([], [], marker='_', color=\"g\", label='Load'), \n",
    "                  Line2D([], [], marker='_', color=\"r\", label='Displacement')])"
   ]
  },
  {
   "cell_type": "markdown",
   "id": "d1236435-1276-4465-9fe2-4efbef063486",
   "metadata": {},
   "source": [
    "# Start from zero force"
   ]
  },
  {
   "cell_type": "markdown",
   "id": "0ea3c737-6e09-44d6-aee8-eb863cbb1f42",
   "metadata": {},
   "source": [
    "Keep only points where the force is greater than zero. This corresponds to when the mechanical compression started"
   ]
  },
  {
   "cell_type": "code",
   "execution_count": null,
   "id": "56f5edb7-b748-4c9d-94d3-cc49d1bc5ae5",
   "metadata": {},
   "outputs": [],
   "source": [
    "df = df[df['Force']>0]\n",
    "df"
   ]
  },
  {
   "cell_type": "code",
   "execution_count": null,
   "id": "e8d6c36e-cb77-48de-9625-d6cf67ed8bea",
   "metadata": {},
   "outputs": [],
   "source": [
    "df['displacement'] = df['Disp'].iloc[0] - df['Disp']\n",
    "df"
   ]
  },
  {
   "cell_type": "markdown",
   "id": "e2724820-6db8-4402-926d-89b4d42ec15c",
   "metadata": {},
   "source": [
    "# Force - Displacement plot"
   ]
  },
  {
   "cell_type": "code",
   "execution_count": null,
   "id": "d0c3d62f-fa11-4783-a654-0ad066f401d9",
   "metadata": {
    "tags": []
   },
   "outputs": [],
   "source": [
    "fig, ax = plt.subplots(figsize=(5, 5))\n",
    "sns.scatterplot(data=df, x=\"displacement\", y=\"Force\", ax=ax)\n",
    "plt.ylabel('Force (mN)')\n",
    "plt.xlabel('Compressive Displacement (mm)')"
   ]
  },
  {
   "cell_type": "markdown",
   "id": "ac7b8cc6-500b-4147-b210-a8539de03fc2",
   "metadata": {},
   "source": [
    "# Stress-strain plot"
   ]
  },
  {
   "cell_type": "markdown",
   "id": "e2b6bee6-4675-4eaa-9865-c8c1741438c1",
   "metadata": {},
   "source": [
    "## Convert forces to stresses (Pa)"
   ]
  },
  {
   "cell_type": "markdown",
   "id": "ea614f66-36d6-42fc-a13c-86e6057606e6",
   "metadata": {},
   "source": [
    "<span style=\"color:red\">**User Input**</span>"
   ]
  },
  {
   "cell_type": "code",
   "execution_count": null,
   "id": "6e674470-009f-4697-a503-3df58e28b383",
   "metadata": {},
   "outputs": [],
   "source": [
    "radius = 5 # mm\n",
    "\n",
    "sample_area = np.pi * (radius**2) # mm^2\n",
    "\n",
    "df['stress'] = df['Force']/sample_area * 10**3 # mN / mm^2 * 10**3 = Pa\n",
    "df"
   ]
  },
  {
   "cell_type": "markdown",
   "id": "a6a4d4ec-055f-4dec-b6d5-3cbc3b1404d2",
   "metadata": {},
   "source": [
    "## Convert displacements to strains (%)"
   ]
  },
  {
   "cell_type": "markdown",
   "id": "93182b7d-f19a-438a-afb1-922d7025b4cd",
   "metadata": {},
   "source": [
    "<span style=\"color:red\">**User Input**</span>"
   ]
  },
  {
   "cell_type": "code",
   "execution_count": null,
   "id": "90c38d44-7968-45af-b0dd-78903db0ccab",
   "metadata": {},
   "outputs": [],
   "source": [
    "sample_thickness = 2 # mm\n",
    "\n",
    "df['strain'] = df['displacement']/sample_thickness #\n",
    "df['strain100'] = df['strain'] * 100\n",
    "df"
   ]
  },
  {
   "cell_type": "markdown",
   "id": "57c0628f-badc-4dde-8b11-a6cd233d232d",
   "metadata": {},
   "source": [
    "## Compute Young modulus"
   ]
  },
  {
   "cell_type": "markdown",
   "id": "e000d967-cc9d-454f-8a49-ffe10bccf539",
   "metadata": {},
   "source": [
    "Young's modulus or the initial modulus (IM) is a measure of the amount of deformation that is caused by a small stress. \n",
    "[reference](https://www.sciencedirect.com/topics/engineering/initial-modulus)\n",
    "\n",
    "In this case, we compute the Young modulus in the range of 0-5% strain."
   ]
  },
  {
   "cell_type": "code",
   "execution_count": null,
   "id": "8ab8632b-4abe-4c96-8981-6a230c983f97",
   "metadata": {},
   "outputs": [],
   "source": [
    "strain_threshold = 5 # %\n",
    "\n",
    "df_young = df[ df['strain100'] < strain_threshold ]"
   ]
  },
  {
   "cell_type": "code",
   "execution_count": null,
   "id": "de6329c8-a5f2-4ae6-8126-011f4cd05c75",
   "metadata": {},
   "outputs": [],
   "source": [
    "r = sfa.ols('stress ~ strain + 0', data=df_young).fit()\n",
    "r.summary()"
   ]
  },
  {
   "cell_type": "code",
   "execution_count": null,
   "id": "35dad38c-2360-4c8d-bdd3-f9ac00b28776",
   "metadata": {},
   "outputs": [],
   "source": [
    "young_pa = r.params[0] # Pa\n",
    "young_kpa = young_pa / 1000 #kPa\n",
    "\n",
    "print('--------------\\n\\n\\nYoung modulus {0:.2f} kPa\\n\\n\\n--------------'.format(young_kpa))"
   ]
  },
  {
   "cell_type": "markdown",
   "id": "fd2d8232-3e78-4164-b769-0dca0ce9b5f7",
   "metadata": {},
   "source": [
    "## Stress-strain plot"
   ]
  },
  {
   "cell_type": "code",
   "execution_count": null,
   "id": "24341c64-f696-4f89-b459-c224547ba3b0",
   "metadata": {
    "tags": []
   },
   "outputs": [],
   "source": [
    "x = df_young['strain100']\n",
    "\n",
    "fig, ax = plt.subplots(figsize=(5, 5))\n",
    "sns.scatterplot(data=df.sample(n=100, random_state=1), x=\"strain100\", y=\"stress\", ax=ax)\n",
    "ax.plot(x, r.fittedvalues, linestyle='dashed', linewidth=2, color='black')\n",
    "plt.ylabel('Stress (Pa)')\n",
    "plt.xlabel('Compressive Strain (%)')\n",
    "\n",
    "# https://matplotlib.org/stable/api/_as_gen/matplotlib.pyplot.savefig.html\n",
    "plt.savefig('Stress_Strain_curve.svg')"
   ]
  },
  {
   "cell_type": "markdown",
   "id": "6db5365a-d868-45ba-bf33-357ae6649f25",
   "metadata": {},
   "source": [
    "# Save data"
   ]
  },
  {
   "attachments": {},
   "cell_type": "markdown",
   "id": "16b45408",
   "metadata": {},
   "source": [
    "Save new `.csv` file in the same directory where the orginal dataset is located"
   ]
  },
  {
   "cell_type": "code",
   "execution_count": null,
   "id": "d5abf237",
   "metadata": {},
   "outputs": [],
   "source": [
    "newfile = Path(filename).parent / (Path(filename).stem + '_analyzed.csv')\n",
    "print(newfile)"
   ]
  },
  {
   "cell_type": "code",
   "execution_count": null,
   "id": "521c7c26-83b7-495f-a3d9-81a86ea3d70f",
   "metadata": {},
   "outputs": [],
   "source": [
    "df.to_csv(newfile)"
   ]
  },
  {
   "cell_type": "code",
   "execution_count": null,
   "id": "e167f852-8005-424f-8c68-f934373706e2",
   "metadata": {},
   "outputs": [],
   "source": []
  }
 ],
 "metadata": {
  "kernelspec": {
   "display_name": "Python 3 (ipykernel)",
   "language": "python",
   "name": "python3"
  },
  "language_info": {
   "codemirror_mode": {
    "name": "ipython",
    "version": 3
   },
   "file_extension": ".py",
   "mimetype": "text/x-python",
   "name": "python",
   "nbconvert_exporter": "python",
   "pygments_lexer": "ipython3",
   "version": "3.10.8"
  }
 },
 "nbformat": 4,
 "nbformat_minor": 5
}
