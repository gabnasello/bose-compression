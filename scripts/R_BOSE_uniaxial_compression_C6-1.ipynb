{
 "cells": [
  {
   "cell_type": "markdown",
   "id": "2ec4e18a",
   "metadata": {},
   "source": [
    "<span STYLE=\"font-size:200%\"> \n",
    "    Data analysis of the BOSE stress-relaxation test\n",
    "</span>\n",
    "\n",
    "Docker image: gnasello/datascience-env:2023-07-16 \\\n",
    "Conda environment: R \\\n",
    "Latest update: 26 July 2023"
   ]
  },
  {
   "cell_type": "markdown",
   "id": "996b06d3",
   "metadata": {},
   "source": [
    "# Load required packages and data"
   ]
  },
  {
   "cell_type": "code",
   "execution_count": null,
   "id": "3391cdad",
   "metadata": {
    "tags": [],
    "vscode": {
     "languageId": "r"
    }
   },
   "outputs": [],
   "source": [
    "library(ggplot2)\n",
    "library(ggpubr)\n",
    "library(investr)"
   ]
  },
  {
   "cell_type": "markdown",
   "id": "4a3053a4-0ee8-4fd7-b675-9c278469d20c",
   "metadata": {},
   "source": [
    "Load the [r_utils scirpts](https://github.com/gabnasello/r_utils.git) from GitHub\n",
    "\n",
    "You can debug the *r_utils* script by downloading the GitHub project from terminal and chance the argument of the `source` function (open it from JupyterLab):\n",
    "\n",
    "`git clone https://github.com/gabnasello/r_utils.git`\n",
    "\n",
    "How to Reuse Functions That You Create In Scripts, [tutorial](https://www.earthdatascience.org/courses/earth-analytics/multispectral-remote-sensing-data/source-function-in-R/)"
   ]
  },
  {
   "cell_type": "code",
   "execution_count": null,
   "id": "39257d4f-1a77-479c-b47d-2fea42610b75",
   "metadata": {
    "tags": [],
    "vscode": {
     "languageId": "r"
    }
   },
   "outputs": [],
   "source": [
    "source(\"https://raw.githubusercontent.com/gabnasello/r_utils/main/ggplot_utils.R\")\n",
    "source(\"https://raw.githubusercontent.com/gabnasello/r_utils/main/stats_utils.R\")"
   ]
  },
  {
   "cell_type": "markdown",
   "id": "4595bc27",
   "metadata": {},
   "source": [
    "Set the parameters of the `cyto_plot()` function"
   ]
  },
  {
   "cell_type": "code",
   "execution_count": null,
   "id": "a87a5935",
   "metadata": {
    "tags": [],
    "vscode": {
     "languageId": "r"
    }
   },
   "outputs": [],
   "source": [
    "label_text_size = 1.4; label_fill_alpha = 0.2; label_text_font = 1\n",
    "axes_text_size = 1.4\n",
    "axes_label_text_size = 1.6; title_text_size = 1.5; header_text_size = 1.3\n",
    "legend_text_size = 1.7"
   ]
  },
  {
   "cell_type": "markdown",
   "id": "838ca90e",
   "metadata": {},
   "source": [
    "## Load data"
   ]
  },
  {
   "cell_type": "markdown",
   "id": "43293814-465c-4649-9a3a-f57e725d9412",
   "metadata": {},
   "source": [
    "<span style=\"color:red\">**User Input**</span>"
   ]
  },
  {
   "cell_type": "code",
   "execution_count": null,
   "id": "9209a3ea-d694-42ca-92c8-78bfac544dab",
   "metadata": {
    "tags": [],
    "vscode": {
     "languageId": "r"
    }
   },
   "outputs": [],
   "source": [
    "filetable <- 'data/GN015_C-2_1 04062023 040128_tdf.CSV'"
   ]
  },
  {
   "cell_type": "code",
   "execution_count": null,
   "id": "c1a8f2f2-3df9-446c-bf3f-05a77d769e1c",
   "metadata": {
    "tags": [],
    "vscode": {
     "languageId": "r"
    }
   },
   "outputs": [],
   "source": [
    "# skip - the first three lines of tdf.CSV files are not relevant for the dataframe object \n",
    "df_original <- read.csv(file=filetable, skip = 3)\n",
    "head(df_original)"
   ]
  },
  {
   "cell_type": "markdown",
   "id": "725d8ef1-9d65-439e-86ba-f41cf27aee69",
   "metadata": {},
   "source": [
    "Show units"
   ]
  },
  {
   "cell_type": "code",
   "execution_count": null,
   "id": "59b72f20-0b56-43cb-81a2-6464baab0f8d",
   "metadata": {
    "tags": [],
    "vscode": {
     "languageId": "r"
    }
   },
   "outputs": [],
   "source": [
    "units <- df_original[1,]\n",
    "units"
   ]
  },
  {
   "cell_type": "markdown",
   "id": "2fbf8172-92df-43cd-bdd2-35b8c8e7abb5",
   "metadata": {},
   "source": [
    "# Data pre-processing"
   ]
  },
  {
   "cell_type": "markdown",
   "id": "617bfdb6-fdfd-4858-a092-ab20aa33d726",
   "metadata": {},
   "source": [
    "## Remove not relevant data"
   ]
  },
  {
   "cell_type": "code",
   "execution_count": null,
   "id": "9d32623c-cad7-4fb7-b312-74f2d05df5ea",
   "metadata": {
    "tags": [],
    "vscode": {
     "languageId": "r"
    }
   },
   "outputs": [],
   "source": [
    "#delete 1st row\n",
    "df <- df_original[-1,]\n",
    "\n",
    "# Remove DataFrame last column with Base R\n",
    "df <- df[1: ncol(df)-1 ]\n",
    "\n",
    "# Convert all variable types to numeric\n",
    "df <- as.data.frame(apply(df, 2, as.numeric))  \n",
    "head(df)"
   ]
  },
  {
   "cell_type": "markdown",
   "id": "039f139f-8206-4905-a9d2-7930693b8f80",
   "metadata": {},
   "source": [
    "## Create time variable"
   ]
  },
  {
   "cell_type": "code",
   "execution_count": null,
   "id": "bc06647a-e9e3-42f0-ba53-2a421339dc29",
   "metadata": {
    "tags": [],
    "vscode": {
     "languageId": "r"
    }
   },
   "outputs": [],
   "source": [
    "df['time'] <- df['Elapsed.Time']\n",
    "head(df)"
   ]
  },
  {
   "cell_type": "markdown",
   "id": "6f3432ba-9386-4c69-9327-36aa094ce7dc",
   "metadata": {},
   "source": [
    "## Create load variable"
   ]
  },
  {
   "cell_type": "markdown",
   "id": "362bf85f-1e0a-4123-9049-4e7eed153efd",
   "metadata": {},
   "source": [
    "Set the initial load value to zero, which corresponds to the tare load. "
   ]
  },
  {
   "cell_type": "code",
   "execution_count": null,
   "id": "9c568ae0-f6df-4f17-9824-2596d387f5c6",
   "metadata": {
    "tags": [],
    "vscode": {
     "languageId": "r"
    }
   },
   "outputs": [],
   "source": [
    "df['load'] <- df['Load.3'] - max(df[1:20, 'Load.3'])\n",
    "head(df)"
   ]
  },
  {
   "cell_type": "markdown",
   "id": "9a5b096d-e1c2-4a72-94b9-67436bcb6878",
   "metadata": {},
   "source": [
    "## Create displacement variable"
   ]
  },
  {
   "cell_type": "markdown",
   "id": "502d713d-2694-4aa1-bd2d-56e914dea57b",
   "metadata": {},
   "source": [
    "Set the initial position of the plate to zero"
   ]
  },
  {
   "cell_type": "code",
   "execution_count": null,
   "id": "bfea9783-ad08-47ad-acda-8343b8e90942",
   "metadata": {
    "tags": [],
    "vscode": {
     "languageId": "r"
    }
   },
   "outputs": [],
   "source": [
    "df['displacement'] = df[1, 'Disp'] - df['Disp']\n",
    "head(df)"
   ]
  },
  {
   "cell_type": "markdown",
   "id": "edfd43d4-6b9e-4ff9-8986-a548b626c062",
   "metadata": {},
   "source": [
    "# Load and Displament vs Time"
   ]
  },
  {
   "cell_type": "code",
   "execution_count": null,
   "id": "4f8ba1b2-e25c-42b8-86c3-a23bc3240b04",
   "metadata": {
    "tags": [],
    "vscode": {
     "languageId": "r"
    }
   },
   "outputs": [],
   "source": [
    "p1 <- ggplot(df, aes(x = time, y = load)) + \n",
    "     geom_line(linewidth=1, color=\"#00A087FF\")    \n",
    "\n",
    "img1 <- ggplotMinAethetics(p1, width=7, height=4,\n",
    "                          plot.title=element_text(size = 13),\n",
    "                          xlabel='Time (s)', \n",
    "                          ylabel='Load (g)', \n",
    "                          legend.position=\"none\"\n",
    "                          )\n",
    "\n",
    "p2 <- ggplot(df, aes(x = time, y = Disp)) + \n",
    "     geom_line(linewidth=1, color=\"#3C5488FF\")    \n",
    "\n",
    "img2 <- ggplotMinAethetics(p2, width=7, height=4,\n",
    "                          plot.title=element_text(size = 13),\n",
    "                          xlabel='Time (s)', \n",
    "                          ylabel='Displacement (mm)', \n",
    "                          legend.position=\"none\"\n",
    "                          )\n",
    "\n",
    "img1\n",
    "img2"
   ]
  },
  {
   "cell_type": "markdown",
   "id": "35ed4660-dfa4-473d-b8db-acebf396b0f5",
   "metadata": {},
   "source": [
    "# Select interval of interest"
   ]
  },
  {
   "cell_type": "markdown",
   "id": "b63f53b8-8982-4cb1-b9cd-b997141e26ba",
   "metadata": {},
   "source": [
    "<span style=\"color:red\">**User Input**</span>"
   ]
  },
  {
   "cell_type": "code",
   "execution_count": null,
   "id": "e288895e-7e00-40dd-89ea-3a18569f49c2",
   "metadata": {
    "tags": [],
    "vscode": {
     "languageId": "r"
    }
   },
   "outputs": [],
   "source": [
    "test_start <- 2 #seconds"
   ]
  },
  {
   "cell_type": "code",
   "execution_count": null,
   "id": "12b3d4d2-e48c-4574-b2c8-dda75cd26777",
   "metadata": {
    "tags": [],
    "vscode": {
     "languageId": "r"
    }
   },
   "outputs": [],
   "source": [
    "df <- df[df['time'] <= test_start, ]\n",
    "head(df)"
   ]
  },
  {
   "cell_type": "markdown",
   "id": "f6b69c48-b447-4b21-8ff8-96a313be390c",
   "metadata": {},
   "source": [
    "# Convert Load (in grams) to Force (in milli Newtons) and change sign"
   ]
  },
  {
   "cell_type": "code",
   "execution_count": null,
   "id": "36263161-2559-459d-b3da-e45fde7d8107",
   "metadata": {
    "tags": [],
    "vscode": {
     "languageId": "r"
    }
   },
   "outputs": [],
   "source": [
    "g_acc = 9.80665 # m/s2\n",
    "\n",
    "df['force'] = df['load'] * (-g_acc) # g * m/s^2 = mN (10^-3 N)\n",
    "head(df)"
   ]
  },
  {
   "cell_type": "markdown",
   "id": "6775dec3-02ed-4d6f-9ab1-686a055373ab",
   "metadata": {
    "tags": []
   },
   "source": [
    "# Raw Plots"
   ]
  },
  {
   "cell_type": "markdown",
   "id": "42ad2ae7-eb0b-473e-ac0e-308b50316fd4",
   "metadata": {},
   "source": [
    "## Load vs Time"
   ]
  },
  {
   "cell_type": "code",
   "execution_count": null,
   "id": "6d9dd505-7365-40f3-91ee-4a3ed5cf8c10",
   "metadata": {
    "tags": [],
    "vscode": {
     "languageId": "r"
    }
   },
   "outputs": [],
   "source": [
    "p <- ggplot(df, aes(x = time, y = load)) + \n",
    "     geom_line(linewidth=1, color=\"#00A087FF\")    \n",
    "\n",
    "img <- ggplotMinAethetics(p, width=3.5, height=4,\n",
    "                          plot.title=element_text(size = 13),\n",
    "                          xlabel='Time (s)', \n",
    "                          ylabel='Load (g)', \n",
    "                          legend.position=\"none\"\n",
    "                          )\n",
    "       # scale_y_continuous(expand=c(0,0), limits=c(0,170)) \n",
    "\n",
    "img"
   ]
  },
  {
   "cell_type": "markdown",
   "id": "8acd4cef-06a2-4c43-b448-74f6a60c5f32",
   "metadata": {},
   "source": [
    "## Force vs Displacement"
   ]
  },
  {
   "cell_type": "code",
   "execution_count": null,
   "id": "bc1c89e3-cb33-400d-a70b-d4d9151e5bbe",
   "metadata": {
    "tags": [],
    "vscode": {
     "languageId": "r"
    }
   },
   "outputs": [],
   "source": [
    "p <- ggplot(df, aes(x = displacement, y = force)) + \n",
    "     geom_point(size=1, color=\"#00A087FF\")    \n",
    "\n",
    "img <- ggplotMinAethetics(p, width=3.5, height=4,\n",
    "                          plot.title=element_text(size = 13),\n",
    "                          xlabel='Displacement (mm)', \n",
    "                          ylabel='Force (mN)', \n",
    "                          legend.position=\"none\"\n",
    "                          )\n",
    "\n",
    "img"
   ]
  },
  {
   "cell_type": "markdown",
   "id": "95a511bf-2fba-4756-8029-64d10571f650",
   "metadata": {},
   "source": [
    "# Unit conversions"
   ]
  },
  {
   "cell_type": "markdown",
   "id": "60d1f983-076d-45e7-8075-5d0f47cfaefd",
   "metadata": {},
   "source": [
    "## Convert forces to stresses (Pa)"
   ]
  },
  {
   "cell_type": "markdown",
   "id": "8a39e54b-5d1e-49cd-9127-fafad05cd2c2",
   "metadata": {},
   "source": [
    "<span style=\"color:red\">**User Input**</span>"
   ]
  },
  {
   "cell_type": "code",
   "execution_count": null,
   "id": "c701811e-b5a1-43bf-8aa8-2c9a228922e1",
   "metadata": {
    "tags": [],
    "vscode": {
     "languageId": "r"
    }
   },
   "outputs": [],
   "source": [
    "radius <- 5 # mm\n",
    "\n",
    "sample_area <- pi * (radius^2) # mm^2\n",
    "\n",
    "df['stress'] <- df['force']/sample_area * 1e03 # mN / mm^2 * 10**3 = Pa\n",
    "head(df)"
   ]
  },
  {
   "cell_type": "markdown",
   "id": "a4a6f5e0-783f-4336-9d36-c8dc9227d073",
   "metadata": {},
   "source": [
    "## Convert displacements to strains (%)"
   ]
  },
  {
   "cell_type": "markdown",
   "id": "03ab7f82-45d8-4dfa-9dd2-8066f7fddd05",
   "metadata": {},
   "source": [
    "<span style=\"color:red\">**User Input**</span>"
   ]
  },
  {
   "cell_type": "code",
   "execution_count": null,
   "id": "c50587d7-bc92-48e8-a1ec-78d3f9bcf270",
   "metadata": {
    "tags": [],
    "vscode": {
     "languageId": "r"
    }
   },
   "outputs": [],
   "source": [
    "sample_thickness <- df[1,'NetDisp'] # mm\n",
    "\n",
    "df['strain'] <- df['displacement']/sample_thickness #\n",
    "df['strain100'] <- df['strain'] * 100\n",
    "head(df)"
   ]
  },
  {
   "cell_type": "markdown",
   "id": "6a1ccf9f-8a18-488c-a42e-56b276451288",
   "metadata": {},
   "source": [
    "# Stress vs Strain plot"
   ]
  },
  {
   "cell_type": "code",
   "execution_count": null,
   "id": "73018aae-1c4f-4d4e-b3fe-045351f1d655",
   "metadata": {
    "tags": [],
    "vscode": {
     "languageId": "r"
    }
   },
   "outputs": [],
   "source": [
    "p <- ggplot(df, aes(x = strain100, y = stress)) + \n",
    "     geom_point(size=1, color=\"#00A087FF\")    \n",
    "\n",
    "img <- ggplotMinAethetics(p, width=3.5, height=4,\n",
    "                          plot.title=element_text(size = 13),\n",
    "                          xlabel='Compressive Strain (%)', \n",
    "                          ylabel='Stress (Pa)', \n",
    "                          legend.position=\"none\"\n",
    "                          )\n",
    "\n",
    "img"
   ]
  },
  {
   "cell_type": "markdown",
   "id": "70c91df0-b711-4c24-9c3f-39e6d8300915",
   "metadata": {},
   "source": [
    "# Save data"
   ]
  },
  {
   "cell_type": "markdown",
   "id": "4968c825-9bb3-44b8-a9af-e95e26b5fd3b",
   "metadata": {},
   "source": [
    "Save new `.csv` file in the same directory where the orginal dataset is located"
   ]
  },
  {
   "cell_type": "code",
   "execution_count": null,
   "id": "370647be-7759-4847-a5bb-dffebaf0450f",
   "metadata": {
    "tags": [],
    "vscode": {
     "languageId": "r"
    }
   },
   "outputs": [],
   "source": [
    "filename_stem <- tools::file_path_sans_ext(filetable)\n",
    "newfile <- paste(filename_stem, '_compression_analyzed.csv')\n",
    "newfile"
   ]
  },
  {
   "cell_type": "code",
   "execution_count": null,
   "id": "32001e5d-0319-4fb5-b238-e7f2a66f7e24",
   "metadata": {
    "tags": [],
    "vscode": {
     "languageId": "r"
    }
   },
   "outputs": [],
   "source": [
    "write.csv(df, newfile)"
   ]
  },
  {
   "cell_type": "markdown",
   "id": "801e7b99-85e4-49e3-82de-692d88618c4e",
   "metadata": {
    "tags": []
   },
   "source": [
    "# Young modulus (E) calculation"
   ]
  },
  {
   "cell_type": "code",
   "execution_count": null,
   "id": "79e2231f-705d-42e9-bfbc-dd0443110da3",
   "metadata": {
    "tags": [],
    "vscode": {
     "languageId": "r"
    }
   },
   "outputs": [],
   "source": [
    "young_values <- data.frame(min_strain100=double(),\n",
    "                           max_strain100=double(),\n",
    "                           young_pa=double()\n",
    "                           )\n",
    "young_values"
   ]
  },
  {
   "cell_type": "markdown",
   "id": "9bf25dbd-59ec-4259-98c3-c68c6cde9bdd",
   "metadata": {
    "tags": []
   },
   "source": [
    "## E 0-1% strain"
   ]
  },
  {
   "cell_type": "code",
   "execution_count": null,
   "id": "59657e37-d63c-40d7-b2e3-0af5d2b6cf9e",
   "metadata": {
    "tags": [],
    "vscode": {
     "languageId": "r"
    }
   },
   "outputs": [],
   "source": [
    "min_strain100 = 0\n",
    "max_strain100 = 1"
   ]
  },
  {
   "cell_type": "code",
   "execution_count": null,
   "id": "a6ae6343-30e9-414e-8d86-a2df71a6409e",
   "metadata": {
    "tags": [],
    "vscode": {
     "languageId": "r"
    }
   },
   "outputs": [],
   "source": [
    "df_young <- df[df['strain100']>=min_strain100 & df['strain100']<=max_strain100,]\n",
    "tail(df_young)"
   ]
  },
  {
   "cell_type": "markdown",
   "id": "eb1f8b95-9457-4b33-9414-db3bfb9fba52",
   "metadata": {},
   "source": [
    "### Build regression model"
   ]
  },
  {
   "cell_type": "code",
   "execution_count": null,
   "id": "cb6cf27e-22e4-4ca2-8d07-89bdb423f405",
   "metadata": {
    "tags": [],
    "vscode": {
     "languageId": "r"
    }
   },
   "outputs": [],
   "source": [
    "model = lm( stress ~ strain + 0, data=df_young)\n",
    "summary(model)"
   ]
  },
  {
   "cell_type": "code",
   "execution_count": null,
   "id": "cee4a3d3-745e-4933-9cc9-580c9ab53a9e",
   "metadata": {
    "tags": [],
    "vscode": {
     "languageId": "r"
    }
   },
   "outputs": [],
   "source": [
    "# young modulus in Pascal\n",
    "young_pa <- unname(model$coefficients['strain'])\n",
    "\n",
    "message <- sprintf('--------------\\n\\n\\nYoung modulus: %.2f Pa\\n\\n\\n--------------', young_pa)\n",
    "cat(message)"
   ]
  },
  {
   "cell_type": "code",
   "execution_count": null,
   "id": "7af40a69-5c75-49c2-a0e0-6c1d288bf6df",
   "metadata": {
    "tags": [],
    "vscode": {
     "languageId": "r"
    }
   },
   "outputs": [],
   "source": [
    "young_values <- rbind(young_values, data.frame(min_strain100=min_strain100,\n",
    "                                               max_strain100=max_strain100,\n",
    "                                               young_pa=young_pa\n",
    "                                               )\n",
    "                     )\n",
    "young_values"
   ]
  },
  {
   "cell_type": "markdown",
   "id": "ce00ee80-4fef-4cdb-ab20-3221e3910fd4",
   "metadata": {},
   "source": [
    "### Plot regression model"
   ]
  },
  {
   "cell_type": "markdown",
   "id": "6353a3b1-a49d-4d80-b9b1-4861006e7d4d",
   "metadata": {},
   "source": [
    "Add 'fit', 'lwr', and 'upr' columns to dataframe (generated by predict). This is useful to [to plot an already-existing linear model](https://stackoverflow.com/questions/44865508/using-ggplot2-to-plot-an-already-existing-linear-model)"
   ]
  },
  {
   "cell_type": "code",
   "execution_count": null,
   "id": "9cc95aa7-cec1-4a04-8fd6-4c6546c8e70d",
   "metadata": {
    "tags": [],
    "vscode": {
     "languageId": "r"
    }
   },
   "outputs": [],
   "source": [
    "model.predict <- cbind(df, predict(model, df['strain'], interval = 'confidence'))\n",
    "head(model.predict)"
   ]
  },
  {
   "cell_type": "markdown",
   "id": "7c38678e-5aea-4629-ad77-ceb05c31cece",
   "metadata": {},
   "source": [
    "plot the points (actual observations), regression line, and confidence interval"
   ]
  },
  {
   "cell_type": "code",
   "execution_count": null,
   "id": "b6bf0516-c2d1-48a5-a78c-6e8ffba626a0",
   "metadata": {
    "tags": [],
    "vscode": {
     "languageId": "r"
    }
   },
   "outputs": [],
   "source": [
    "p <- ggplot(model.predict, aes(x = strain100, y = stress)) + \n",
    "     geom_point(size=1, color=\"#4DBBD5FF\", alpha=0.8)  + \n",
    "     geom_line(aes(strain100, fit))\n",
    "\n",
    "img <- ggplotMinAethetics(p, width=3.5, height=4,\n",
    "                          plot.title=element_text(size = 13),\n",
    "                          xlabel='Compressive Strain (%)', \n",
    "                          ylabel='Stress (Pa)', \n",
    "                          legend.position=\"none\"\n",
    "                          )\n",
    "       # scale_y_continuous(expand=c(0,0), limits=c(0,260)) \n",
    "\n",
    "img"
   ]
  },
  {
   "cell_type": "markdown",
   "id": "eb25df4b-ce90-4193-840e-990c3fbf32ba",
   "metadata": {
    "tags": []
   },
   "source": [
    "## E 0-5% strain"
   ]
  },
  {
   "cell_type": "code",
   "execution_count": null,
   "id": "16c7747d-5c96-4241-b4dc-6f1566f865df",
   "metadata": {
    "tags": [],
    "vscode": {
     "languageId": "r"
    }
   },
   "outputs": [],
   "source": [
    "min_strain100 = 0\n",
    "max_strain100 = 5"
   ]
  },
  {
   "cell_type": "code",
   "execution_count": null,
   "id": "ec356435-0af2-459d-a7e3-b498a692894f",
   "metadata": {
    "tags": [],
    "vscode": {
     "languageId": "r"
    }
   },
   "outputs": [],
   "source": [
    "df_young <- df[df['strain100']>=min_strain100 & df['strain100']<=max_strain100,]\n",
    "tail(df_young)"
   ]
  },
  {
   "cell_type": "markdown",
   "id": "1249cd84-599e-43b5-970d-12e723beba5c",
   "metadata": {},
   "source": [
    "### Build regression model"
   ]
  },
  {
   "cell_type": "code",
   "execution_count": null,
   "id": "69b0d540-23d7-485c-8121-1753de11db5f",
   "metadata": {
    "tags": [],
    "vscode": {
     "languageId": "r"
    }
   },
   "outputs": [],
   "source": [
    "model = lm( stress ~ strain + 0, data=df_young)\n",
    "summary(model)"
   ]
  },
  {
   "cell_type": "code",
   "execution_count": null,
   "id": "c5caa72b-6866-4213-bb79-fe3cdeb0cd12",
   "metadata": {
    "tags": [],
    "vscode": {
     "languageId": "r"
    }
   },
   "outputs": [],
   "source": [
    "# young modulus in Pascal\n",
    "young_pa <- unname(model$coefficients['strain'])\n",
    "\n",
    "message <- sprintf('--------------\\n\\n\\nYoung modulus: %.2f Pa\\n\\n\\n--------------', young_pa)\n",
    "cat(message)"
   ]
  },
  {
   "cell_type": "code",
   "execution_count": null,
   "id": "7e21caf8-9427-4cc7-ab8d-8d93d7c2c1f2",
   "metadata": {
    "tags": [],
    "vscode": {
     "languageId": "r"
    }
   },
   "outputs": [],
   "source": [
    "young_values <- rbind(young_values, data.frame(min_strain100=min_strain100,\n",
    "                                                 max_strain100=max_strain100,\n",
    "                                                 young_pa=young_pa\n",
    "                                                 )\n",
    "                     )\n",
    "young_values"
   ]
  },
  {
   "cell_type": "markdown",
   "id": "a0d63b15-e322-4b3a-b95c-81330dd5a557",
   "metadata": {},
   "source": [
    "### Plot regression model"
   ]
  },
  {
   "cell_type": "markdown",
   "id": "ba5aabbd-e6cc-49ac-a5f6-81e0195bcd97",
   "metadata": {},
   "source": [
    "Add 'fit', 'lwr', and 'upr' columns to dataframe (generated by predict). This is useful to [to plot an already-existing linear model](https://stackoverflow.com/questions/44865508/using-ggplot2-to-plot-an-already-existing-linear-model)"
   ]
  },
  {
   "cell_type": "code",
   "execution_count": null,
   "id": "e97f60f3-3a1d-4199-9b28-da84749cd746",
   "metadata": {
    "tags": [],
    "vscode": {
     "languageId": "r"
    }
   },
   "outputs": [],
   "source": [
    "model.predict <- cbind(df, predict(model, df['strain'], interval = 'confidence'))\n",
    "head(model.predict)"
   ]
  },
  {
   "cell_type": "markdown",
   "id": "1e956460-5b59-42cd-856a-08ea46c1a61c",
   "metadata": {},
   "source": [
    "plot the points (actual observations), regression line, and confidence interval"
   ]
  },
  {
   "cell_type": "code",
   "execution_count": null,
   "id": "e002c061-c491-4898-a008-a0668e1ed91b",
   "metadata": {
    "tags": [],
    "vscode": {
     "languageId": "r"
    }
   },
   "outputs": [],
   "source": [
    "p <- ggplot(model.predict, aes(x = strain100, y = stress)) + \n",
    "     geom_point(size=1, color=\"#4DBBD5FF\", alpha=0.8)  + \n",
    "     geom_line(aes(strain100, fit))\n",
    "\n",
    "img <- ggplotMinAethetics(p, width=3.5, height=4,\n",
    "                          plot.title=element_text(size = 13),\n",
    "                          xlabel='Compressive Strain (%)', \n",
    "                          ylabel='Stress (Pa)', \n",
    "                          legend.position=\"none\"\n",
    "                          )\n",
    "       # scale_y_continuous(expand=c(0,0), limits=c(0,260)) \n",
    "\n",
    "img"
   ]
  },
  {
   "cell_type": "markdown",
   "id": "0e6ba867-9e2d-427d-b14c-c1c9808129b3",
   "metadata": {
    "tags": []
   },
   "source": [
    "## E 0-10% strain"
   ]
  },
  {
   "cell_type": "code",
   "execution_count": null,
   "id": "d08b43aa-9fc0-4692-ada0-02a09b0cb6b0",
   "metadata": {
    "tags": [],
    "vscode": {
     "languageId": "r"
    }
   },
   "outputs": [],
   "source": [
    "min_strain100 = 0\n",
    "max_strain100 = 10"
   ]
  },
  {
   "cell_type": "code",
   "execution_count": null,
   "id": "aeae9d09-52ba-45bd-9105-820a06cc5565",
   "metadata": {
    "tags": [],
    "vscode": {
     "languageId": "r"
    }
   },
   "outputs": [],
   "source": [
    "df_young <- df[df['strain100']>=min_strain100 & df['strain100']<=max_strain100,]\n",
    "tail(df_young)"
   ]
  },
  {
   "cell_type": "markdown",
   "id": "029891e7-a643-4a85-91a2-b544cbc5091b",
   "metadata": {},
   "source": [
    "### Build regression model"
   ]
  },
  {
   "cell_type": "code",
   "execution_count": null,
   "id": "91c048f7-6f97-4ed7-8407-b7875674b16b",
   "metadata": {
    "tags": [],
    "vscode": {
     "languageId": "r"
    }
   },
   "outputs": [],
   "source": [
    "model = lm( stress ~ strain + 0, data=df_young)\n",
    "summary(model)"
   ]
  },
  {
   "cell_type": "code",
   "execution_count": null,
   "id": "9c4800e9-f5de-4a89-b25a-a0a655a96865",
   "metadata": {
    "tags": [],
    "vscode": {
     "languageId": "r"
    }
   },
   "outputs": [],
   "source": [
    "# young modulus in Pascal\n",
    "young_pa <- unname(model$coefficients['strain'])\n",
    "\n",
    "message <- sprintf('--------------\\n\\n\\nYoung modulus: %.2f Pa\\n\\n\\n--------------', young_pa)\n",
    "cat(message)"
   ]
  },
  {
   "cell_type": "code",
   "execution_count": null,
   "id": "a8712358-f67d-4fa9-a1df-acdf9a3ed4c7",
   "metadata": {
    "tags": [],
    "vscode": {
     "languageId": "r"
    }
   },
   "outputs": [],
   "source": [
    "young_values <- rbind(young_values, data.frame(min_strain100=min_strain100,\n",
    "                                                 max_strain100=max_strain100,\n",
    "                                                 young_pa=young_pa\n",
    "                                                 )\n",
    "                     )\n",
    "young_values"
   ]
  },
  {
   "cell_type": "markdown",
   "id": "274d3c6c-6baf-4643-813f-ad3319f8a0f9",
   "metadata": {},
   "source": [
    "### Plot regression model"
   ]
  },
  {
   "cell_type": "markdown",
   "id": "330e57f6-8c75-4550-8cc0-1012a4ecb8df",
   "metadata": {},
   "source": [
    "Add 'fit', 'lwr', and 'upr' columns to dataframe (generated by predict). This is useful to [to plot an already-existing linear model](https://stackoverflow.com/questions/44865508/using-ggplot2-to-plot-an-already-existing-linear-model)"
   ]
  },
  {
   "cell_type": "code",
   "execution_count": null,
   "id": "e482fd9d-08b7-4ec0-b721-dca183344e08",
   "metadata": {
    "tags": [],
    "vscode": {
     "languageId": "r"
    }
   },
   "outputs": [],
   "source": [
    "model.predict <- cbind(df, predict(model, df['strain'], interval = 'confidence'))\n",
    "head(model.predict)"
   ]
  },
  {
   "cell_type": "markdown",
   "id": "7429af94-fe3e-4c3c-8dd5-40c8a65f3e93",
   "metadata": {},
   "source": [
    "plot the points (actual observations), regression line, and confidence interval"
   ]
  },
  {
   "cell_type": "code",
   "execution_count": null,
   "id": "601538f0-3dd5-4fee-ac70-040030be2cf3",
   "metadata": {
    "tags": [],
    "vscode": {
     "languageId": "r"
    }
   },
   "outputs": [],
   "source": [
    "p <- ggplot(model.predict, aes(x = strain100, y = stress)) + \n",
    "     geom_point(size=1, color=\"#4DBBD5FF\", alpha=0.8)  + \n",
    "     geom_line(aes(strain100, fit))\n",
    "\n",
    "img <- ggplotMinAethetics(p, width=3.5, height=4,\n",
    "                          plot.title=element_text(size = 13),\n",
    "                          xlabel='Compressive Strain (%)', \n",
    "                          ylabel='Stress (Pa)', \n",
    "                          legend.position=\"none\"\n",
    "                          )\n",
    "       # scale_y_continuous(expand=c(0,0), limits=c(0,130)) \n",
    "\n",
    "img"
   ]
  },
  {
   "cell_type": "markdown",
   "id": "96a31c38-e099-44aa-932b-3087c084b3b5",
   "metadata": {},
   "source": [
    "## Save data"
   ]
  },
  {
   "cell_type": "code",
   "execution_count": null,
   "id": "aa61672a-02f6-4a3d-b4ab-ab80cf6ca846",
   "metadata": {
    "tags": [],
    "vscode": {
     "languageId": "r"
    }
   },
   "outputs": [],
   "source": [
    "young_values"
   ]
  },
  {
   "cell_type": "markdown",
   "id": "c7d8b0de-c39b-4a86-9a78-30bfd0f96b3f",
   "metadata": {},
   "source": [
    "Save new `.csv` file in the same directory where the orginal dataset is located"
   ]
  },
  {
   "cell_type": "code",
   "execution_count": null,
   "id": "d6a249c0-99d1-4400-88de-e12b5655a3bd",
   "metadata": {
    "tags": [],
    "vscode": {
     "languageId": "r"
    }
   },
   "outputs": [],
   "source": [
    "filename_stem <- tools::file_path_sans_ext(filetable)\n",
    "newfile <- paste(filename_stem, '_young_modulus.csv')\n",
    "newfile"
   ]
  },
  {
   "cell_type": "code",
   "execution_count": null,
   "id": "0ba214d3-fd09-455c-931c-62cded94071e",
   "metadata": {
    "tags": [],
    "vscode": {
     "languageId": "r"
    }
   },
   "outputs": [],
   "source": [
    "write.csv(young_values, newfile)"
   ]
  },
  {
   "cell_type": "code",
   "execution_count": null,
   "id": "8894598d-cf55-424d-8e3d-af1255df8601",
   "metadata": {
    "vscode": {
     "languageId": "r"
    }
   },
   "outputs": [],
   "source": []
  }
 ],
 "metadata": {
  "kernelspec": {
   "display_name": "R",
   "language": "R",
   "name": "ir"
  },
  "language_info": {
   "codemirror_mode": "r",
   "file_extension": ".r",
   "mimetype": "text/x-r-source",
   "name": "R",
   "pygments_lexer": "r",
   "version": "4.3.0"
  }
 },
 "nbformat": 4,
 "nbformat_minor": 5
}
